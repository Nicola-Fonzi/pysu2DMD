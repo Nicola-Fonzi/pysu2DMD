{
 "cells": [
  {
   "cell_type": "code",
   "execution_count": 1,
   "id": "93aa3974",
   "metadata": {},
   "outputs": [],
   "source": [
    "# In the previous tutorials, we learnt how to load the data, process them, and obtain a functioning surrogate model\n",
    "# that represent, in a much more compact way, our full state CFD simulation. Here, we finally test this model by applying\n",
    "# a different set of inputs to the surrogate model and comparing the results with the CFD results.\n",
    "\n",
    "# The aerodynamic conditions at which we trained our model are such that we have a dynamic instability of the wing exposed \n",
    "# to the flow (i.e., we have flutter). We should see this instability also in the surrogate model. Please note, that the\n",
    "# aerodynamic system is ALWAYS stable, there is no such a thing like air that spontaneosly starts to create vortices, thus\n",
    "# the eigenvalues of the DMD aerodynamic model must always be stable, and we will tackle a stabilisation procedure here. The\n",
    "# instability comes from the eigenvalues of the coupled aeroelastic system."
   ]
  },
  {
   "cell_type": "code",
   "execution_count": 2,
   "id": "d087d21f",
   "metadata": {},
   "outputs": [],
   "source": [
    "# As we have now learnt how to create the ROM, we will directly use the driver, which automatically load all the data,\n",
    "# create the physical model, and create the ROM. This is the usual way the user is expected to use the code. However,\n",
    "# it is important to understand what is happening, thus the requirement for the first three tutorials.\n",
    "\n",
    "# The driver has two ways of operating:\n",
    "    # 1) It can be given a set of structural inputs and can apply them to the aerodynamic model\n",
    "    # 2) It can solve for the structural equations of motions and couple them with the DMD model, in this case it requires\n",
    "    #    an additional file describing the structural model\n",
    "    \n",
    "# The ROM will be created with an artificial stabilisation, the brunton one."
   ]
  },
  {
   "cell_type": "code",
   "execution_count": null,
   "id": "2203f3c1",
   "metadata": {},
   "outputs": [],
   "source": []
  }
 ],
 "metadata": {
  "kernelspec": {
   "display_name": "Python 3 (ipykernel)",
   "language": "python",
   "name": "python3"
  },
  "language_info": {
   "codemirror_mode": {
    "name": "ipython",
    "version": 3
   },
   "file_extension": ".py",
   "mimetype": "text/x-python",
   "name": "python",
   "nbconvert_exporter": "python",
   "pygments_lexer": "ipython3",
   "version": "3.8.10"
  }
 },
 "nbformat": 4,
 "nbformat_minor": 5
}
