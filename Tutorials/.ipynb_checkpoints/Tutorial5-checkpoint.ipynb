{
 "cells": [
  {
   "cell_type": "code",
   "execution_count": 1,
   "id": "b45a7117",
   "metadata": {},
   "outputs": [],
   "source": [
    "# The aerodynamic conditions at which we trained our model are such that we have a dynamic instability of the wing exposed \n",
    "# to the flow (i.e., we have flutter). We should see this instability also in the surrogate model. Please note, that the\n",
    "# aerodynamic system is ALWAYS stable, there is no such a thing like air that spontaneosly starts to create vortices, thus\n",
    "# the eigenvalues of the DMD aerodynamic model must always be stable. The instability comes from the eigenvalues of the\n",
    "# coupled aeroelastic system."
   ]
  },
  {
   "cell_type": "code",
   "execution_count": 2,
   "id": "b7d28049",
   "metadata": {},
   "outputs": [],
   "source": [
    "# Here, we use the second possible functioning way of the driver. Thus, we will also create a structural model and we will\n",
    "# integrate the structural equations of motion together with the aerodynamic rom. Please note that python is extremely flexible\n",
    "# and it is easy to add other structural solvers in this step."
   ]
  },
  {
   "cell_type": "code",
   "execution_count": null,
   "id": "514fe1ae",
   "metadata": {},
   "outputs": [],
   "source": [
    "# Again, only one line is required to launch the creation of the system and the solution process\n",
    "# Note that, in this case, as the forces are directly applied inside the driver to the structural system, the output file\n",
    "# will contain the modal amplitudes\n",
    "import os\n",
    "os.chdir(\"..\")\n",
    "import driver\n",
    "os.chdir(\"Tutorials\")\n",
    "\n",
    "driver.main(\"data/configTutorial5.cfg\")"
   ]
  }
 ],
 "metadata": {
  "kernelspec": {
   "display_name": "Python 3 (ipykernel)",
   "language": "python",
   "name": "python3"
  },
  "language_info": {
   "codemirror_mode": {
    "name": "ipython",
    "version": 3
   },
   "file_extension": ".py",
   "mimetype": "text/x-python",
   "name": "python",
   "nbconvert_exporter": "python",
   "pygments_lexer": "ipython3",
   "version": "3.8.10"
  }
 },
 "nbformat": 4,
 "nbformat_minor": 5
}
