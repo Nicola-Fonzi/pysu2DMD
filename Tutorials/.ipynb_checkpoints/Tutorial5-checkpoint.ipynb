{
 "cells": [
  {
   "cell_type": "code",
   "execution_count": 1,
   "id": "b45a7117",
   "metadata": {},
   "outputs": [],
   "source": [
    "# The aerodynamic conditions at which we trained our model are such that we have a dynamic instability of the wing exposed \n",
    "# to the flow (i.e., we have flutter). We should see this instability also in the surrogate model. Please note, that the\n",
    "# aerodynamic system is ALWAYS stable, there is no such a thing like air that spontaneosly starts to create vortices, thus\n",
    "# the eigenvalues of the DMD aerodynamic model must always be stable. The instability comes from the eigenvalues of the\n",
    "# coupled aeroelastic system."
   ]
  },
  {
   "cell_type": "code",
   "execution_count": 2,
   "id": "89c95e88",
   "metadata": {},
   "outputs": [],
   "source": [
    "# Here, we use the second possible functioning way of the driver. Thus, we will also create a structural model and we will\n",
    "# integrate the structural equations of motion together with the aerodynamic rom. Please note that python is extremely flexible\n",
    "# and it is easy to add other structural solvers in this step."
   ]
  },
  {
   "cell_type": "code",
   "execution_count": 3,
   "id": "a1027884",
   "metadata": {
    "scrolled": true
   },
   "outputs": [
    {
     "ename": "Exception",
     "evalue": "Unrecongnised option NORMALS",
     "output_type": "error",
     "traceback": [
      "\u001b[0;31m---------------------------------------------------------------------------\u001b[0m",
      "\u001b[0;31mException\u001b[0m                                 Traceback (most recent call last)",
      "\u001b[0;32m/tmp/ipykernel_939/1253855971.py\u001b[0m in \u001b[0;36m<module>\u001b[0;34m\u001b[0m\n\u001b[1;32m      7\u001b[0m \u001b[0mos\u001b[0m\u001b[0;34m.\u001b[0m\u001b[0mchdir\u001b[0m\u001b[0;34m(\u001b[0m\u001b[0;34m\"Tutorials\"\u001b[0m\u001b[0;34m)\u001b[0m\u001b[0;34m\u001b[0m\u001b[0;34m\u001b[0m\u001b[0m\n\u001b[1;32m      8\u001b[0m \u001b[0;34m\u001b[0m\u001b[0m\n\u001b[0;32m----> 9\u001b[0;31m \u001b[0mdriver\u001b[0m\u001b[0;34m.\u001b[0m\u001b[0mmain\u001b[0m\u001b[0;34m(\u001b[0m\u001b[0;34m\"data/configTutorial5.cfg\"\u001b[0m\u001b[0;34m)\u001b[0m\u001b[0;34m\u001b[0m\u001b[0;34m\u001b[0m\u001b[0m\n\u001b[0m",
      "\u001b[0;32m/mnt/d/Desktop/PhD/pysu2DMD/driver.py\u001b[0m in \u001b[0;36mmain\u001b[0;34m(cfgFile)\u001b[0m\n\u001b[1;32m     67\u001b[0m         \u001b[0mconfiguration\u001b[0m \u001b[0;34m=\u001b[0m \u001b[0mreadConfig\u001b[0m\u001b[0;34m(\u001b[0m\u001b[0moptions\u001b[0m\u001b[0;34m.\u001b[0m\u001b[0mcfgFile\u001b[0m\u001b[0;34m)\u001b[0m\u001b[0;34m\u001b[0m\u001b[0;34m\u001b[0m\u001b[0m\n\u001b[1;32m     68\u001b[0m     \u001b[0;32melse\u001b[0m\u001b[0;34m:\u001b[0m\u001b[0;34m\u001b[0m\u001b[0;34m\u001b[0m\u001b[0m\n\u001b[0;32m---> 69\u001b[0;31m         \u001b[0mconfiguration\u001b[0m \u001b[0;34m=\u001b[0m \u001b[0mreadConfig\u001b[0m\u001b[0;34m(\u001b[0m\u001b[0mcfgFile\u001b[0m\u001b[0;34m)\u001b[0m\u001b[0;34m\u001b[0m\u001b[0;34m\u001b[0m\u001b[0m\n\u001b[0m\u001b[1;32m     70\u001b[0m \u001b[0;34m\u001b[0m\u001b[0m\n\u001b[1;32m     71\u001b[0m     \u001b[0;31m# Double check that the number of histories correspond to the requested dimension\u001b[0m\u001b[0;34m\u001b[0m\u001b[0;34m\u001b[0m\u001b[0;34m\u001b[0m\u001b[0m\n",
      "\u001b[0;32m/mnt/d/Desktop/PhD/pysu2DMD/driver.py\u001b[0m in \u001b[0;36mreadConfig\u001b[0;34m(cfgFile)\u001b[0m\n\u001b[1;32m    187\u001b[0m             \u001b[0mconfiguration\u001b[0m \u001b[0;34m=\u001b[0m \u001b[0meval\u001b[0m\u001b[0;34m(\u001b[0m\u001b[0mthis_value\u001b[0m\u001b[0;34m)\u001b[0m\u001b[0;34m\u001b[0m\u001b[0;34m\u001b[0m\u001b[0m\n\u001b[1;32m    188\u001b[0m         \u001b[0;32melse\u001b[0m\u001b[0;34m:\u001b[0m\u001b[0;34m\u001b[0m\u001b[0;34m\u001b[0m\u001b[0m\n\u001b[0;32m--> 189\u001b[0;31m             \u001b[0;32mraise\u001b[0m \u001b[0mException\u001b[0m\u001b[0;34m(\u001b[0m\u001b[0;34m\"Unrecongnised option \"\u001b[0m\u001b[0;34m+\u001b[0m\u001b[0mthis_param\u001b[0m\u001b[0;34m)\u001b[0m\u001b[0;34m\u001b[0m\u001b[0;34m\u001b[0m\u001b[0m\n\u001b[0m\u001b[1;32m    190\u001b[0m \u001b[0;34m\u001b[0m\u001b[0m\n\u001b[1;32m    191\u001b[0m     \u001b[0;32mreturn\u001b[0m \u001b[0mconfiguration\u001b[0m\u001b[0;34m\u001b[0m\u001b[0;34m\u001b[0m\u001b[0m\n",
      "\u001b[0;31mException\u001b[0m: Unrecongnised option NORMALS"
     ]
    }
   ],
   "source": [
    "# Again, only one line is required to launch the creation of the system and the solution process\n",
    "# Note that, in this case, as the forces are directly applied inside the driver to the structural system, the output file\n",
    "# will contain the modal amplitudes\n",
    "import os\n",
    "os.chdir(\"..\")\n",
    "import driver\n",
    "os.chdir(\"Tutorials\")\n",
    "\n",
    "driver.main(\"data/configTutorial5.cfg\")"
   ]
  },
  {
   "cell_type": "code",
   "execution_count": null,
   "id": "f2ab6803",
   "metadata": {},
   "outputs": [],
   "source": [
    "# The great power of this method is the strong reduction in computational time that already provides a gain with the first\n",
    "# simulation. In other words: when building a reduced order model it must be taken into account a significant expense to\n",
    "# create the required training set. This is even more compelling for neural network application, where the training of the\n",
    "# net is justified only if several full simulations will be run with that later. In this case, as we only need\n",
    "# a very short simulation to gain all the required information, the cost for training is already offset with the first full\n",
    "# simulation, meaning that it will always be convenient to use the DMDc ROM.\n",
    "# To put it into numbers: the training required around 30 minutes, most of which where due to the reading of the database from\n",
    "# file. The time integration with the reduced order model lasted 1 hour. This was done on a personal computer with medium\n",
    "# performances. The training signal was generated using 40 cores of a cluster, and it took 62 hours. The total is 63.5 hours.\n",
    "# On the other hand, the full simulation to predict flutter with the CFD model took 180 hours."
   ]
  },
  {
   "cell_type": "code",
   "execution_count": null,
   "id": "c95ce3dd",
   "metadata": {
    "scrolled": false
   },
   "outputs": [],
   "source": [
    "# We now plot the first two modes to verify that indeed we see a slightly unstable behaviour. It must be noted that\n",
    "# with no structural damping the system was exactly at the boundary of instability. In order to have a proper instability, \n",
    "# we had to remove 0.1% of structural damping. This is an extremely small quantity, but it is still sufficinet to trigger\n",
    "# the instability. The explanation for this is that the coupled system built using the aerodynamic ROM is \n",
    "mode0 = []\n",
    "mode1 = []\n",
    "with open(\"data/outputsTutorial5.dat\") as file:\n",
    "    headerline = file.readline()\n",
    "    line = file.readline()\n",
    "    while True:\n",
    "        if not line:\n",
    "            break\n",
    "        line.strip(\"\\r\\n\")\n",
    "        line = line.split()\n",
    "        mode0.append(float(line[1]))\n",
    "        mode1.append(float(line[4]))\n",
    "        line = file.readline()\n",
    "\n",
    "from matplotlib import pyplot as plt\n",
    "import numpy as np\n",
    "\n",
    "plt.plot(mode0)\n",
    "plt.plot(mode1)\n",
    "# just make the plot pretty\n",
    "plt.xlabel(\"Time iteration\")\n",
    "plt.ylabel(\"Lift [N]\")\n",
    "plt.legend([\"Plunge\",\"Pitch\"])"
   ]
  }
 ],
 "metadata": {
  "kernelspec": {
   "display_name": "Python 3 (ipykernel)",
   "language": "python",
   "name": "python3"
  },
  "language_info": {
   "codemirror_mode": {
    "name": "ipython",
    "version": 3
   },
   "file_extension": ".py",
   "mimetype": "text/x-python",
   "name": "python",
   "nbconvert_exporter": "python",
   "pygments_lexer": "ipython3",
   "version": "3.8.10"
  }
 },
 "nbformat": 4,
 "nbformat_minor": 5
}
