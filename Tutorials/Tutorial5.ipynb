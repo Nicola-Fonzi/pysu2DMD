{
 "cells": [
  {
   "cell_type": "code",
   "execution_count": 1,
   "id": "b45a7117",
   "metadata": {},
   "outputs": [],
   "source": [
    "# The aerodynamic conditions at which we trained our model are such that we have a dynamic instability of the wing exposed \n",
    "# to the flow (i.e., we have flutter). We should see this instability also in the surrogate model. Please note, that the\n",
    "# aerodynamic system is ALWAYS stable, there is no such a thing like air that spontaneosly starts to create vortices, thus\n",
    "# the eigenvalues of the DMD aerodynamic model must always be stable. The instability comes from the eigenvalues of the\n",
    "# coupled aeroelastic system."
   ]
  },
  {
   "cell_type": "code",
   "execution_count": 2,
   "id": "5372cbe2",
   "metadata": {},
   "outputs": [],
   "source": [
    "# Here, we use the second possible functioning way of the driver. Thus, we will also create a structural model and we will\n",
    "# integrate the structural equations of motion together with the aerodynamic rom. Please note that python is extremely flexible\n",
    "# and it is easy to add other structural solvers in this step."
   ]
  },
  {
   "cell_type": "code",
   "execution_count": 3,
   "id": "7a0c9a1f",
   "metadata": {},
   "outputs": [
    {
     "name": "stdout",
     "output_type": "stream",
     "text": [
      "Creating the physical model.\n",
      "Importing the data from the files.\n",
      "Obtaining the normals to the different panels.\n",
      "Completed reading\n",
      "Obtaining the mode shapes\n",
      "Starting with the undeformed condition\n",
      "Obtain now the deformation due to modes\n",
      "Opened file 1 of 2\n",
      "Opened file 2 of 2\n",
      "Completed reading\n",
      "Done\n",
      "\n",
      "\n",
      "Creating the database for the reduced order model.\n",
      "Importing the data from the files.\n",
      "Opened structural history file data/blendedStep/StructHistoryModal.dat.\n",
      "Completed reading\n",
      "Starting the reading of surface_flow.csv files.\n",
      "Opened time iter 1099 last time iter is 1099\n",
      "Completed reading\n",
      "Done\n"
     ]
    },
    {
     "data": {
      "image/png": "[encoded data removed]",
      "text/plain": [
       "<Figure size 432x288 with 1 Axes>"
      ]
     },
     "metadata": {
      "needs_background": "light"
     },
     "output_type": "display_data"
    },
    {
     "name": "stdout",
     "output_type": "stream",
     "text": [
      "Please select steady state for mode 0:\n",
      "450\n",
      "Please select steady state for mode 1:\n",
      "850\n",
      "\n",
      "\n",
      "------------- Configuring the structural solver for FSI simulation -------------\n",
      "Assuming -0.1% of modal damping\n",
      "------------------------ Creating the structural model -------------------------\n",
      "Opened punch file data/modal.pch.\n",
      "Modal stiffness and mass matrices are diagonal\n",
      "Using 2 degrees of freedom\n",
      "---------------------- Setting the integration parameters ----------------------\n",
      "Setting initial conditions.\n",
      "Time iter\tq1\tqdot1\tqddot1\tq2\tqdot2\tqddot2\t\n",
      "3759\t0.2544\t-0.3146\t-57.6765\t-0.0480\t0.2388\t26.6666\t\t\t\n",
      "Completed time integration\n"
     ]
    }
   ],
   "source": [
    "# Again, only one line is required to launch the creation of the system and the solution process\n",
    "# Note that, in this case, as the forces are directly applied inside the driver to the structural system, the output file\n",
    "# will contain the modal amplitudes\n",
    "import os\n",
    "os.chdir(\"..\")\n",
    "import driver\n",
    "os.chdir(\"Tutorials\")\n",
    "\n",
    "driver.main(\"data/configTutorial5.cfg\")"
   ]
  }
 ],
 "metadata": {
  "kernelspec": {
   "display_name": "Python 3 (ipykernel)",
   "language": "python",
   "name": "python3"
  },
  "language_info": {
   "codemirror_mode": {
    "name": "ipython",
    "version": 3
   },
   "file_extension": ".py",
   "mimetype": "text/x-python",
   "name": "python",
   "nbconvert_exporter": "python",
   "pygments_lexer": "ipython3",
   "version": "3.8.10"
  }
 },
 "nbformat": 4,
 "nbformat_minor": 5
}
