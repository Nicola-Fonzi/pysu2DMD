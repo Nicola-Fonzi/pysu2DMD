{
 "cells": [
  {
   "cell_type": "code",
   "execution_count": null,
   "id": "b45a7117",
   "metadata": {},
   "outputs": [],
   "source": [
    "# The aerodynamic conditions at which we trained our model are such that we have a dynamic instability of the wing exposed \n",
    "# to the flow (i.e., we have flutter). We should see this instability also in the surrogate model. Please note, that the\n",
    "# aerodynamic system is ALWAYS stable, there is no such a thing like air that spontaneosly starts to create vortices, thus\n",
    "# the eigenvalues of the DMD aerodynamic model must always be stable, and we will tackle a stabilisation procedure here. The\n",
    "# instability comes from the eigenvalues of the coupled aeroelastic system."
   ]
  }
 ],
 "metadata": {
  "kernelspec": {
   "display_name": "Python 3 (ipykernel)",
   "language": "python",
   "name": "python3"
  },
  "language_info": {
   "codemirror_mode": {
    "name": "ipython",
    "version": 3
   },
   "file_extension": ".py",
   "mimetype": "text/x-python",
   "name": "python",
   "nbconvert_exporter": "python",
   "pygments_lexer": "ipython3",
   "version": "3.8.10"
  }
 },
 "nbformat": 4,
 "nbformat_minor": 5
}
